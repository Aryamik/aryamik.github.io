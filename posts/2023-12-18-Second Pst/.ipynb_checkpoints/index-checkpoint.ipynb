{
 "cells": [
  {
   "cell_type": "markdown",
   "id": "2776a734",
   "metadata": {},
   "source": [
    "Have you guys ever seen that meme?\n"
   ]
  },
  {
   "cell_type": "markdown",
   "id": "8f8cf8f8",
   "metadata": {},
   "source": [
    "That's me"
   ]
  },
  {
   "cell_type": "markdown",
   "id": "a65809c6",
   "metadata": {},
   "source": []
  }
 ],
 "metadata": {
  "kernelspec": {
   "display_name": "Python 3 (ipykernel)",
   "language": "python",
   "name": "python3"
  },
  "language_info": {
   "codemirror_mode": {
    "name": "ipython",
    "version": 3
   },
   "file_extension": ".py",
   "mimetype": "text/x-python",
   "name": "python",
   "nbconvert_exporter": "python",
   "pygments_lexer": "ipython3",
   "version": "3.10.9"
  }
 },
 "nbformat": 4,
 "nbformat_minor": 5
}
